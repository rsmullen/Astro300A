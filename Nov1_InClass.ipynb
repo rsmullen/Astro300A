{
 "cells": [
  {
   "cell_type": "markdown",
   "metadata": {},
   "source": [
    "# Nov 1\n",
    "# In Class Computing\n",
    "Please finish anything you have left for homework.  Turn this in to D2L as a PDF or HTML document; no notebooks!  You can save it as one of these types with `File > Download as`.\n",
    "\n",
    "It may be helpful to have the last in-class assignment and the Intro to Python notebooks open for reference."
   ]
  },
  {
   "cell_type": "markdown",
   "metadata": {},
   "source": [
    "## Your name:"
   ]
  },
  {
   "cell_type": "raw",
   "metadata": {
    "collapsed": true
   },
   "source": []
  },
  {
   "cell_type": "markdown",
   "metadata": {},
   "source": [
    "\n",
    "\n",
    "\n",
    "### The Maxwell-Boltzmann distribution\n",
    "\n",
    "Today, we're going to play with the Maxwell-Boltzmann distribution, which describes the speed of particles in an ideal gas. "
   ]
  },
  {
   "cell_type": "markdown",
   "metadata": {},
   "source": [
    "This is the Maxwell-Boltzmann distribution, albeit written a little differently that we did in class.  This one has been normalized to the total number of particles in the volume we're considering."
   ]
  },
  {
   "cell_type": "markdown",
   "metadata": {},
   "source": [
    "$$ \\mathcal{N}(v) =\\frac{N(v)}{N_\\textrm{total}}=\\left(\\frac{m}{2\\pi kT}\\right)^{3/2}4\\pi v^2\\exp\\left(\\frac{-mv^2}{2 kT}\\right)$$"
   ]
  },
  {
   "cell_type": "markdown",
   "metadata": {},
   "source": [
    " _<span style=\"color:red\">Let's plot the Maxwell-Boltzmann distribution for molecular nitrogen at room temperature. Plot your velocity limits from 0 to 2 km/s.</span>_  Don't forget that you need to import the proper Python packages to do the calculations and make plots.  Also, don't forget the `%matplotlib inline` command so that plots show up in the notebook! "
   ]
  },
  {
   "cell_type": "code",
   "execution_count": null,
   "metadata": {
    "collapsed": true
   },
   "outputs": [],
   "source": []
  },
  {
   "cell_type": "markdown",
   "metadata": {},
   "source": [
    " _<span style=\"color:red\">What does the vertical axis of your plot represent?</span>_ (Answer below)"
   ]
  },
  {
   "cell_type": "raw",
   "metadata": {
    "collapsed": true
   },
   "source": []
  },
  {
   "cell_type": "markdown",
   "metadata": {},
   "source": [
    "Now, let's find the three important velocities of this distribution numerically. (Yes, I know we can calculate them analytically, but this is a computing day!).  \n",
    "\n",
    "We need to find $v_\\textrm{peak}$, $v_\\textrm{mean}$, and $v_\\text{rms}$."
   ]
  },
  {
   "cell_type": "markdown",
   "metadata": {},
   "source": [
    "We can find $v_\\textrm{peak}$ using the `where` and `max` commands in Numpy.  An example is below."
   ]
  },
  {
   "cell_type": "code",
   "execution_count": null,
   "metadata": {},
   "outputs": [],
   "source": [
    "from numpy.random import random # just to get an interesting array\n",
    "from numpy import where\n",
    "x = random(10)*10 # this gives us random numbers from 0 to 10\n",
    "print(x)\n",
    "\n",
    "# If I want to find the minimum of my array, I can use the following.\n",
    "xmin = x[where(x==min(x))] # where returns the indices of x for which the condition is True\n",
    "print(xmin)"
   ]
  },
  {
   "cell_type": "markdown",
   "metadata": {},
   "source": [
    "Now you.  _<span style=\"color:red\">Find the peak velocity of the distribution you plotted above.</span>_"
   ]
  },
  {
   "cell_type": "code",
   "execution_count": null,
   "metadata": {},
   "outputs": [],
   "source": []
  },
  {
   "cell_type": "markdown",
   "metadata": {},
   "source": [
    "$v_\\textrm{mean}$ is the expected speed, which is given as $\\langle v \\rangle = \\int_0^\\infty v \\mathcal{N}(v) dv $"
   ]
  },
  {
   "cell_type": "markdown",
   "metadata": {},
   "source": [
    "Uh, oh!  We need to do an integral, and Python doesn't do symbolic math. \n",
    "\n",
    " Here's an easy way to approximate an integral below using the NumPy method `trapz`, which uses the [trapezoidal rule](https://en.wikipedia.org/wiki/Trapezoidal_rule) to approximate integrals.\n",
    "\n",
    "In this example, I'm approximating the integral $\\int_0^{10} x^3 dx=2500$"
   ]
  },
  {
   "cell_type": "code",
   "execution_count": null,
   "metadata": {},
   "outputs": [],
   "source": [
    "# the more values in x, the more accurate our answer is.\n",
    "from numpy import linspace, trapz\n",
    "x = linspace(0,10,100)\n",
    "integrand = x**3.\n",
    "\n",
    "answer = trapz(integrand, x) # we give trapz the values of our integrand and the x intervals we want it to use.  \n",
    "print(answer)"
   ]
  },
  {
   "cell_type": "markdown",
   "metadata": {},
   "source": [
    "The answer isn't perfect, but it is pretty good!\n",
    "\n",
    " _<span style=\"color:red\">Using `trapz` to integrate, find the mean velocity of our given Maxwell-Boltzmann distribution.</span>_"
   ]
  },
  {
   "cell_type": "code",
   "execution_count": null,
   "metadata": {},
   "outputs": [],
   "source": []
  },
  {
   "cell_type": "markdown",
   "metadata": {},
   "source": [
    "Finally, we need to find $v_\\text{rms}$, which is given as $\\sqrt{\\langle v^2 \\rangle} = \\left(\\int_0^{\\infty} v^2 \\, f(v) \\, dv  \\right)^{1/2}$\n",
    "\n",
    " _<span style=\"color:red\">Applying a similar method to above, find the rms velocity of our distribution.</span>_ "
   ]
  },
  {
   "cell_type": "code",
   "execution_count": null,
   "metadata": {
    "scrolled": true
   },
   "outputs": [],
   "source": []
  },
  {
   "cell_type": "markdown",
   "metadata": {},
   "source": [
    " _<span style=\"color:red\">Plot these values as vertical lines over the Maxwell-Boltzmann distribution.</span>_   Make sure your plot has nice axis limits such that everything is readable. Don't forget to label your lines!"
   ]
  },
  {
   "cell_type": "code",
   "execution_count": null,
   "metadata": {},
   "outputs": [],
   "source": []
  },
  {
   "cell_type": "markdown",
   "metadata": {},
   "source": [
    "### Changing properties\n",
    "Let's now explore variations in the Maxwell-Boltzmann distribution."
   ]
  },
  {
   "cell_type": "markdown",
   "metadata": {},
   "source": [
    " _<span style=\"color:red\">Make a new plot showing the Maxwell-Boltzmann distribution for two different temperatures of your choice.</span>_  Make sure to label your lines!  Also plot the line from above for reference.  You may need to change your velocity range to see the full distribution."
   ]
  },
  {
   "cell_type": "code",
   "execution_count": null,
   "metadata": {},
   "outputs": [],
   "source": []
  },
  {
   "cell_type": "markdown",
   "metadata": {},
   "source": [
    " _<span style=\"color:red\">Now try changing the molecule you're using while holding the temperature fixed at 300K.  Plot two new molecules of your choice and the fiducial case of the first plot for reference.</span>_ "
   ]
  },
  {
   "cell_type": "code",
   "execution_count": null,
   "metadata": {},
   "outputs": [],
   "source": []
  },
  {
   "cell_type": "markdown",
   "metadata": {},
   "source": [
    " _<span style=\"color:red\">Given the two plots that you made above, how do temperature or composition impact the distribution of velocities in a gas? What physical implications might this have?</span>_   Answer below."
   ]
  },
  {
   "cell_type": "raw",
   "metadata": {
    "collapsed": true
   },
   "source": []
  },
  {
   "cell_type": "markdown",
   "metadata": {},
   "source": [
    "### Probability\n"
   ]
  },
  {
   "cell_type": "markdown",
   "metadata": {
    "collapsed": true
   },
   "source": [
    "The last thing we want to do is find the probability that a particle will have speed between $v_-$ and  $v_+$.  We can do this by integrating our distribution:\n",
    "\n",
    "$$P(v_- < v < v_+)=\\int_{v_-}^{v_+} \\mathcal{N}(v)dv $$"
   ]
  },
  {
   "cell_type": "markdown",
   "metadata": {},
   "source": [
    "Let's consider a nitrogen molecule in the Earth's upper atmosphere, which has a temperature of about 1000K.  What is the probability that nitrogen will escape the Earth? Let's find out."
   ]
  },
  {
   "cell_type": "markdown",
   "metadata": {},
   "source": [
    " _<span style=\"color:red\">First, plot the Maxwell-Boltzmann distribution for this system.</span>_ "
   ]
  },
  {
   "cell_type": "code",
   "execution_count": null,
   "metadata": {},
   "outputs": [],
   "source": []
  },
  {
   "cell_type": "markdown",
   "metadata": {},
   "source": [
    " _<span style=\"color:red\">What is the Earth's escape velocity?</span>_ (Answer below)"
   ]
  },
  {
   "cell_type": "raw",
   "metadata": {
    "collapsed": true
   },
   "source": []
  },
  {
   "cell_type": "markdown",
   "metadata": {},
   "source": [
    " _<span style=\"color:red\">What is the probability that a nitrogen molecule is moving faster than the number you just calculated?</span>_  (Hint: you'll need to integrate only the part of your distribution that is greater than the escape velocity.  You also need to ensure that your velocity range encompasses the Earth's escape velocity.)"
   ]
  },
  {
   "cell_type": "code",
   "execution_count": null,
   "metadata": {},
   "outputs": [],
   "source": []
  },
  {
   "cell_type": "markdown",
   "metadata": {},
   "source": [
    " _<span style=\"color:red\">What does this mean?  Will nitrogen molecules escape the atmosphere?</span>_  (Answer below)"
   ]
  },
  {
   "cell_type": "raw",
   "metadata": {
    "collapsed": true
   },
   "source": []
  },
  {
   "cell_type": "markdown",
   "metadata": {},
   "source": [
    " _<span style=\"color:red\">What about hydrogen?</span>_ Repeat the above few steps with hydrogen molecules instead of nitrogen."
   ]
  },
  {
   "cell_type": "code",
   "execution_count": null,
   "metadata": {},
   "outputs": [],
   "source": []
  },
  {
   "cell_type": "markdown",
   "metadata": {},
   "source": [
    " _<span style=\"color:red\">Compare the result for hydrogen with that of nitrogen.  What are the implications for Earth's atmosphere?</span>_ (Answer below)"
   ]
  },
  {
   "cell_type": "raw",
   "metadata": {
    "collapsed": true
   },
   "source": []
  },
  {
   "cell_type": "markdown",
   "metadata": {},
   "source": [
    "The escape velocity of the moon is about 2.4 km/s.  _<span style=\"color:red\"> Why doesn't the Moon have an atmosphere?</span>_ (Answer below)"
   ]
  },
  {
   "cell_type": "raw",
   "metadata": {
    "collapsed": true
   },
   "source": []
  }
 ],
 "metadata": {
  "kernelspec": {
   "display_name": "Python 3",
   "language": "python",
   "name": "python3"
  },
  "language_info": {
   "codemirror_mode": {
    "name": "ipython",
    "version": 3
   },
   "file_extension": ".py",
   "mimetype": "text/x-python",
   "name": "python",
   "nbconvert_exporter": "python",
   "pygments_lexer": "ipython3",
   "version": "3.6.3"
  }
 },
 "nbformat": 4,
 "nbformat_minor": 2
}
