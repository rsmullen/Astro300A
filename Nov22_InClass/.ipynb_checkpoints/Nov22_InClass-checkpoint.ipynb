{
 "cells": [
  {
   "cell_type": "markdown",
   "metadata": {},
   "source": [
    "### Nov 2 In Class \n",
    "# Playing with Numerical simulations\n",
    "\n",
    "Today, we'll be exploring hydrodynamic simulations of star forming regions.  We'll apply some of the skills we've learned in class and learn some new coding techniques."
   ]
  },
  {
   "cell_type": "markdown",
   "metadata": {},
   "source": [
    "Your name:"
   ]
  },
  {
   "cell_type": "markdown",
   "metadata": {},
   "source": [
    "#### Loading data\n",
    "Below are some of the packages we'll need.  I've provided import statements for Matplotlib colors and animations and for the AstroPy packages we'll need in the second cell.  \n",
    "\n",
    "_<span style=\"color:red\">Import NumPy and Matplotlib.</span>_  Don't forget to call `%matplotlib inline` to let you see plots."
   ]
  },
  {
   "cell_type": "code",
   "execution_count": null,
   "metadata": {
    "collapsed": true
   },
   "outputs": [],
   "source": []
  },
  {
   "cell_type": "markdown",
   "metadata": {},
   "source": [
    "Here are some specific things you'll need."
   ]
  },
  {
   "cell_type": "code",
   "execution_count": 1,
   "metadata": {
    "collapsed": true
   },
   "outputs": [],
   "source": [
    "import matplotlib\n",
    "import matplotlib.pyplot as plt\n",
    "from matplotlib.colors import LogNorm\n",
    "from distutils.version import LooseVersion\n",
    "if LooseVersion(\"2.1.0\") <= LooseVersion(matplotlib.__version__): \n",
    "    import matplotlib.animation\n",
    "    plt.rcParams[\"animation.html\"] = \"jshtml\"\n",
    "else:\n",
    "    print(\"You need to update matplotlib to version 2.1.0 for parts of this to work.\")\n",
    "    print(\"If you have Anaconda, use 'conda update matplotlib'\")\n",
    "    print(\"If you have a non-Anaconda python distribution, use 'pip install matplotlib --upgrade'\")\n",
    "          \n",
    "try: from astropy.modeling import models, fitting\n",
    "except: print(\"You need to install astropy\")"
   ]
  },
  {
   "cell_type": "markdown",
   "metadata": {},
   "source": [
    "Now, we need to load the data.  The data are saved in `density.npy`, `temperature.npy`, and `pressure.npy`. _<span style=\"color:red\"> Use the NumPy `load` function ([found here](https://docs.scipy.org/doc/numpy-1.13.0/reference/generated/numpy.load.html)) to load in the three arrays.  Check the size of the arrays with the NumPy `shape` method and ensure they are all the same size.</span>_"
   ]
  },
  {
   "cell_type": "code",
   "execution_count": null,
   "metadata": {},
   "outputs": [],
   "source": []
  },
  {
   "cell_type": "markdown",
   "metadata": {},
   "source": [
    "You should find that the arrays are $128^3$ cells in size.  _<span style=\"color:red\"> Given that our simulation dimensions each correspond to 1.25 pc, what is the size of an individual cell in pc, AU, and cm? </span> _ Don't hard-code the size; I suggest using the `len` function."
   ]
  },
  {
   "cell_type": "code",
   "execution_count": null,
   "metadata": {},
   "outputs": [],
   "source": []
  },
  {
   "cell_type": "markdown",
   "metadata": {},
   "source": [
    " _<span style=\"color:red\">How does this size scale compare to the typical sizes of star-forming cores we talked about in class?  How many cells would fit across a core?  How does this size scale compare to the sizes of protoplanetary disks?  How many cells fit across a disk?</span> _"
   ]
  },
  {
   "cell_type": "raw",
   "metadata": {},
   "source": []
  },
  {
   "cell_type": "markdown",
   "metadata": {},
   "source": [
    "#### Examining data\n",
    "\n",
    "Because our simulation output is in 3-d, we need to learn how to access elements in three-dimensional arrays.  We can use a three-dimensional position list `[x,y,z]` to get a single element, or we can use a colon `:` to take slices of the array.  For instance, `[0,:,:]` will return all `y` and `z` elements for `x=0`."
   ]
  },
  {
   "cell_type": "code",
   "execution_count": 2,
   "metadata": {},
   "outputs": [
    {
     "name": "stdout",
     "output_type": "stream",
     "text": [
      "[[[4 8 1]\n",
      "  [0 7 0]\n",
      "  [9 4 9]]\n",
      "\n",
      " [[3 5 3]\n",
      "  [1 6 5]\n",
      "  [5 8 9]]\n",
      "\n",
      " [[8 9 7]\n",
      "  [9 3 6]\n",
      "  [5 3 1]]]\n",
      "4\n",
      "1\n",
      "[[3 5 3]\n",
      " [1 6 5]\n",
      " [5 8 9]]\n"
     ]
    }
   ],
   "source": [
    "from numpy.random import randint\n",
    "\n",
    "# create a 3-d array of random numbers\n",
    "test = randint(10,size=(3,3,3))\n",
    "print(test)\n",
    "\n",
    "# to get the first element\n",
    "print(test[0,0,0])\n",
    "\n",
    "# to get the last element\n",
    "print(test[-1,-1,-1])\n",
    "\n",
    "# to get the middle slice\n",
    "print(test[1,:,:])"
   ]
  },
  {
   "cell_type": "markdown",
   "metadata": {},
   "source": [
    "Another useful thing to know how to do is how to flatten a multi-dimensional array into one dimension.  We can do this using the NumPy `ravel` function."
   ]
  },
  {
   "cell_type": "code",
   "execution_count": 3,
   "metadata": {},
   "outputs": [
    {
     "name": "stdout",
     "output_type": "stream",
     "text": [
      "[4 8 1 0 7 0 9 4 9 3 5 3 1 6 5 5 8 9 8 9 7 9 3 6 5 3 1]\n"
     ]
    }
   ],
   "source": [
    "from numpy import ravel\n",
    "print(ravel(test))"
   ]
  },
  {
   "cell_type": "markdown",
   "metadata": {},
   "source": [
    "Now, let's learn some fundamental properties of our dataset.  _<span style=\"color:red\">First, calculate the average sound speed of gas in our volume.</span>_  Remember that sound speed is given as \n",
    "\n",
    "$$c_s=\\sqrt{\\gamma \\frac{P}{\\rho}}$$\n",
    "\n",
    "In our simulation, $\\gamma\\sim1$ and **all units are in cgs**."
   ]
  },
  {
   "cell_type": "code",
   "execution_count": null,
   "metadata": {},
   "outputs": [],
   "source": []
  },
  {
   "cell_type": "markdown",
   "metadata": {},
   "source": [
    "_<span style=\"color:red\"> Next, calculate the average Jeans length of our volume.</span>_  For our purpose, use the equation\n",
    "\n",
    "$$ \\lambda_J=\\sqrt{\\frac{15k_BT}{4\\pi G\\mu \\rho}} $$\n",
    "\n",
    "In these simulations, $\\mu=2.33m_H$."
   ]
  },
  {
   "cell_type": "code",
   "execution_count": null,
   "metadata": {},
   "outputs": [],
   "source": []
  },
  {
   "cell_type": "markdown",
   "metadata": {},
   "source": [
    "_<span style=\"color:red\"> Can we resolve a Jeans length in our simulations?  How many?</span>_ "
   ]
  },
  {
   "cell_type": "raw",
   "metadata": {},
   "source": []
  },
  {
   "cell_type": "markdown",
   "metadata": {},
   "source": [
    "_<span style=\"color:red\">Finally, calculate the Jeans mass of our volume.</span>_  The Jeans mass is given as \n",
    "\n",
    "$$ \\frac{4\\pi}{3} \\rho R_J^3$$\n",
    "\n",
    "where $R_J=\\lambda_J/2$.\n",
    "\n",
    "_<span style=\"color:red\">Calculate the total gas mass of our simulation.</span>_ (Hint: turn the density into a mass using the cell size we found above)"
   ]
  },
  {
   "cell_type": "code",
   "execution_count": null,
   "metadata": {},
   "outputs": [],
   "source": []
  },
  {
   "cell_type": "markdown",
   "metadata": {},
   "source": [
    "_<span style=\"color:red\"> Do we have enough mass in our simulation to form stars?</span>_ "
   ]
  },
  {
   "cell_type": "raw",
   "metadata": {},
   "source": []
  },
  {
   "cell_type": "markdown",
   "metadata": {},
   "source": [
    "#### Plotting data\n",
    "Now, let's visualize our data.  We can plot a 2-d slice of our data using the Matplotlib `imshow` function ([found here](https://matplotlib.org/api/_as_gen/matplotlib.pyplot.imshow.html)).  For example,"
   ]
  },
  {
   "cell_type": "code",
   "execution_count": 4,
   "metadata": {},
   "outputs": [
    {
     "data": {
      "image/png": "[encoded data removed]",
      "text/plain": [
       "<matplotlib.figure.Figure at 0x7f6d223592b0>"
      ]
     },
     "metadata": {},
     "output_type": "display_data"
    }
   ],
   "source": [
    "from matplotlib.pylab import imshow,colorbar\n",
    "from numpy.random import randint\n",
    "%matplotlib inline\n",
    "\n",
    "test = randint(10,size=(50,50,50))\n",
    "\n",
    "myplot = imshow(test[:,1,:],origin=\"lower\") # using origin=\"lower\" puts (0,0) in the lower left corner"
   ]
  },
  {
   "cell_type": "markdown",
   "metadata": {},
   "source": [
    "You can also change things like the color map (`cmap`; options found [here](http://matplotlib.org/examples/color/colormaps_reference.html)) or the normalization (`norm`).  Remember how I imported `LogNorm` earlier? You can make your plot with a logartithmic color scale by setting `norm=LogNorm()`.\n",
    "\n",
    "We can also add a color bar to our plot using the `colorbar` function."
   ]
  },
  {
   "cell_type": "code",
   "execution_count": 5,
   "metadata": {},
   "outputs": [
    {
     "data": {
      "text/plain": [
       "<matplotlib.colorbar.Colorbar at 0x7f6d0b522978>"
      ]
     },
     "execution_count": 5,
     "metadata": {},
     "output_type": "execute_result"
    },
    {
     "data": {
      "image/png": "[encoded data removed]",
      "text/plain": [
       "<matplotlib.figure.Figure at 0x7f6d406d1a90>"
      ]
     },
     "metadata": {},
     "output_type": "display_data"
    }
   ],
   "source": [
    "myplot = imshow(test[:,1,:],origin=\"lower\")\n",
    "colorbar(myplot,label='Number')"
   ]
  },
  {
   "cell_type": "markdown",
   "metadata": {},
   "source": [
    "_<span style=\"color:red\"> Plot a few slices of your density and temperature arrays. What do you see?  What do the x and y axes show?</span>_ Your plots should have titles and labeled color bars."
   ]
  },
  {
   "cell_type": "code",
   "execution_count": null,
   "metadata": {},
   "outputs": [],
   "source": []
  },
  {
   "cell_type": "markdown",
   "metadata": {},
   "source": [
    "Here is an animation I made stepping through each slice in the array.  The code to make this movie is included at the bottom of the notebook.\n",
    "<img src=\"slices.gif\">"
   ]
  },
  {
   "cell_type": "markdown",
   "metadata": {},
   "source": [
    "The next thing we want to do is reduce the complexity of our data.  We can collapse our 3-d array into a 2-d array by taking the mean value along one axis.  Using NumPy, we can use `mean(array, axis=axis_num)` where `axis_num` is an integer (`x=0`, `y=1`, `z=2`).\n",
    "\n",
    "_<span style=\"color:red\"> Reduce the complexity of temperature and density and plot them.</span>_ "
   ]
  },
  {
   "cell_type": "code",
   "execution_count": null,
   "metadata": {
    "collapsed": true
   },
   "outputs": [],
   "source": []
  },
  {
   "cell_type": "code",
   "execution_count": null,
   "metadata": {},
   "outputs": [],
   "source": []
  },
  {
   "cell_type": "markdown",
   "metadata": {},
   "source": [
    "_<span style=\"color:red\">  Where do you think stars will form in this simulation? </span>_ "
   ]
  },
  {
   "cell_type": "raw",
   "metadata": {},
   "source": []
  },
  {
   "cell_type": "markdown",
   "metadata": {},
   "source": [
    "#### Making histograms\n",
    "\n",
    "Another skill that astronomers frequently use is making histograms.  This is made easy with the NumPy `histogram` function.  We pass `histogram` a 1-d array and the bins we want it to use, and voila!  It returns the bins and the counts in each bin.  For example:"
   ]
  },
  {
   "cell_type": "code",
   "execution_count": 6,
   "metadata": {},
   "outputs": [
    {
     "data": {
      "text/plain": [
       "Text(0.5,0,'Integer')"
      ]
     },
     "execution_count": 6,
     "metadata": {},
     "output_type": "execute_result"
    },
    {
     "data": {
      "image/png": "[encoded data removed]",
      "text/plain": [
       "<matplotlib.figure.Figure at 0x7f6d1326af28>"
      ]
     },
     "metadata": {},
     "output_type": "display_data"
    }
   ],
   "source": [
    "from numpy import histogram, linspace, ravel\n",
    "from matplotlib.pyplot import plot, ylabel, xlabel\n",
    "test = randint(1000,size=(50,50,50))\n",
    "\n",
    "test_1d = ravel(test)\n",
    "\n",
    "mybins = linspace(0,1000,25)\n",
    "\n",
    "# We give histogram our 1-d array and the bins we just made\n",
    "# we get out counts and bin edges\n",
    "y,x_bins = histogram(test_1d, mybins)\n",
    "\n",
    "# Now, we have to convert x_bins to x, which I'll take as the center of each bin \n",
    "x = (x_bins[:-1]+x_bins[1:])/2.  # this takes (x_bins[i] + x_bins[i+1])/2 for all elements in the array\n",
    "\n",
    "# Plot!\n",
    "plot(x,y,'k')\n",
    "ylabel('Count')\n",
    "xlabel('Integer')"
   ]
  },
  {
   "cell_type": "markdown",
   "metadata": {},
   "source": [
    "_<span style=\"color:red\"> Histogram density and temperature. </span>_ (Hint: density is better histogrammed in log values.  You can either create logarithmic bins using `logspace` or take the `log10` of all your density values.  If the former, plot your data using `semilogx` to get a logarithmic x-axis.  Remember that `logspace` takes the power, not the actual value.) "
   ]
  },
  {
   "cell_type": "code",
   "execution_count": null,
   "metadata": {},
   "outputs": [],
   "source": []
  },
  {
   "cell_type": "markdown",
   "metadata": {},
   "source": [
    "#### Fitting models\n",
    "\n",
    "The next thing we want to do is fit a profile to our data to get some understanding of the physical quantities.  The density histogram (should) look like a Gaussian profile (albeit in log-space).  This is called a _log-normal_ distribution.  In these simulations, turbulence produces this log-normal density distribution.  \n",
    "\n",
    "Astropy makes this really easy for us.  I'll give you an example below."
   ]
  },
  {
   "cell_type": "code",
   "execution_count": 7,
   "metadata": {},
   "outputs": [
    {
     "name": "stdout",
     "output_type": "stream",
     "text": [
      "Model: Gaussian1D\n",
      "Inputs: ('x',)\n",
      "Outputs: ('y',)\n",
      "Model set size: 1\n",
      "Parameters:\n",
      "      amplitude         mean         stddev   \n",
      "    ------------- --------------- ------------\n",
      "    327.520278623 0.0035664181749 1.0068770053\n"
     ]
    },
    {
     "data": {
      "text/plain": [
       "Text(0.5,0,'Values')"
      ]
     },
     "execution_count": 7,
     "metadata": {},
     "output_type": "execute_result"
    },
    {
     "data": {
      "image/png": "[encoded data removed]",
      "text/plain": [
       "<matplotlib.figure.Figure at 0x7f6d0b55bba8>"
      ]
     },
     "metadata": {},
     "output_type": "display_data"
    }
   ],
   "source": [
    "from numpy.random import normal\n",
    "from numpy import linspace, array, histogram\n",
    "from matplotlib.pyplot import plot, ylabel, xlabel\n",
    "from astropy.modeling import models, fitting\n",
    "\n",
    "# Make Gaussian test data\n",
    "test = normal(size=10000)\n",
    "\n",
    "# Histogram the data\n",
    "bins = linspace(min(test),max(test),100)\n",
    "y,x_edges = histogram(test,bins)\n",
    "x = (array(x_edges[:-1])+array(x_edges[1:]))/2.\n",
    "\n",
    "# Make a Gaussian model\n",
    "# Give it your best guess for amplitude, mean, and standard deviation\n",
    "g_init = models.Gaussian1D(amplitude=1., mean=0., stddev=1.)\n",
    "\n",
    "# We'll fit our model with a least squares fitting\n",
    "fit_g = fitting.LevMarLSQFitter()\n",
    "\n",
    "# Fit the model to the data\n",
    "g = fit_g(g_init, x, y)\n",
    "print(g)\n",
    "\n",
    "\n",
    "#Plot the model and data\n",
    "plot(x, y, 'k.')\n",
    "plot(x, g(x), 'r',label='Gaussian')\n",
    "xlabel('Values')"
   ]
  },
  {
   "cell_type": "markdown",
   "metadata": {},
   "source": [
    "Now, it is time for you to fit a model to our density profile. _<span style=\"color:red\"> Start by taking the base-10 logarithm of your data and make a histogram.  Initialize a Gaussian model, fit it, and plot both your data and the model. </span>_"
   ]
  },
  {
   "cell_type": "code",
   "execution_count": null,
   "metadata": {},
   "outputs": [],
   "source": []
  },
  {
   "cell_type": "markdown",
   "metadata": {
    "collapsed": true
   },
   "source": [
    "_<span style=\"color:red\"> What are the mean and standard deviation of your model fit? </span>_"
   ]
  },
  {
   "cell_type": "raw",
   "metadata": {
    "collapsed": true
   },
   "source": []
  },
  {
   "cell_type": "markdown",
   "metadata": {},
   "source": [
    "#### Extra: Animation code\n",
    "The code below will create an animation stepping through density and temperature for each slice in our array.  The code may take a few minutes to run, as we have to make 128 plots!  At the end, you should see an interactive frame with forward and back buttons which you can play.  This may or may not work on your computer.  You may need to start your notebook with \n",
    "\n",
    "`jupyter notebook --NotebookApp.iopub_data_rate_limit=10000000000`"
   ]
  },
  {
   "cell_type": "code",
   "execution_count": null,
   "metadata": {
    "scrolled": false
   },
   "outputs": [],
   "source": [
    "# initialize the figure\n",
    "f = figure(figsize=(16,6))\n",
    "plt.rcParams[\"animation.embed_limit\"] = 1024\n",
    "\n",
    "density = load(\"density.npy\")\n",
    "temperature = load(\"temperature.npy\")\n",
    "\n",
    "# make nice plotting limits to pass into vmin and vmax, the lower and upper color scales of our plot\n",
    "# this cuts out the lower and  upper 1% of the data\n",
    "lower = 1 \n",
    "upper = 99\n",
    "density_1d = ravel(density)\n",
    "temperature_1d = ravel(temperature)\n",
    "\n",
    "# percentile(array,number) returns the value of the \"number-th\" percentile\n",
    "rhomin = percentile(density_1d,lower);   rhomax = percentile(density_1d,upper)\n",
    "tmin = percentile(temperature_1d,lower); tmax = percentile(temperature_1d,upper)\n",
    "\n",
    "\n",
    "# make a definition to plot each frame\n",
    "def plotme(i):\n",
    "\n",
    "    # Give some progress output\n",
    "    if int(i+1)%int((len(density))/4)==0: print(int(i+1)/(len(density))*100,'% done')\n",
    "        \n",
    "    # clear the figure\n",
    "    f.clear()\n",
    "    \n",
    "    # plot density in the first subplot\n",
    "    ax = subplot(121)\n",
    "    c = imshow(density[i,:,:],origin=\"lower\",norm=LogNorm(),vmin=rhomin,vmax=rhomax) # do a lognorm scaling\n",
    "    colorbar(c,label='g/cm^3')\n",
    "    title(\"Density\")\n",
    "    \n",
    "    # plot temperature in the second subplot\n",
    "    ax = subplot(122)\n",
    "    c = imshow(temperature[i,:,:],origin=\"lower\",vmin=tmin,vmax=tmax)\n",
    "    colorbar(c,label='K')\n",
    "    title(\"Temperature\")\n",
    "    \n",
    "    # Give it a title\n",
    "    f.suptitle(\"Slice \"+str(i))\n",
    "    return\n",
    "\n",
    "# make and show the animation\n",
    "ani = matplotlib.animation.FuncAnimation(f, plotme, frames=len(density))\n",
    "ani"
   ]
  },
  {
   "cell_type": "code",
   "execution_count": null,
   "metadata": {
    "collapsed": true
   },
   "outputs": [],
   "source": []
  },
  {
   "cell_type": "code",
   "execution_count": null,
   "metadata": {
    "collapsed": true
   },
   "outputs": [],
   "source": []
  }
 ],
 "metadata": {
  "kernelspec": {
   "display_name": "Python 3",
   "language": "python",
   "name": "python3"
  },
  "language_info": {
   "codemirror_mode": {
    "name": "ipython",
    "version": 3
   },
   "file_extension": ".py",
   "mimetype": "text/x-python",
   "name": "python",
   "nbconvert_exporter": "python",
   "pygments_lexer": "ipython3",
   "version": "3.6.3"
  }
 },
 "nbformat": 4,
 "nbformat_minor": 2
}
